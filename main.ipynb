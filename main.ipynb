{
 "cells": [
  {
   "cell_type": "code",
   "execution_count": null,
   "metadata": {
    "executionInfo": {
     "elapsed": 682,
     "status": "ok",
     "timestamp": 1618621913037,
     "user": {
      "displayName": "Domonkos Bálint",
      "photoUrl": "",
      "userId": "03776607101101504614"
     },
     "user_tz": -120
    },
    "id": "nzopYfHLOmLF"
   },
   "outputs": [],
   "source": [
    "import os\n",
    "os.chdir('/content/drive/MyDrive/python/Computer_Vision/TDT4265_Project/')"
   ]
  },
  {
   "cell_type": "code",
   "execution_count": null,
   "metadata": {
    "colab": {
     "base_uri": "https://localhost:8080/"
    },
    "executionInfo": {
     "elapsed": 18679,
     "status": "ok",
     "timestamp": 1618621847922,
     "user": {
      "displayName": "Domonkos Bálint",
      "photoUrl": "",
      "userId": "03776607101101504614"
     },
     "user_tz": -120
    },
    "id": "zwvl3bO_qdVS",
    "outputId": "ce50cb47-575c-4ba3-baa0-e8d3fc6e0916"
   },
   "outputs": [],
   "source": [
    "from google.colab import drive\n",
    "drive.mount('/content/drive')"
   ]
  },
  {
   "cell_type": "code",
   "execution_count": null,
   "metadata": {
    "executionInfo": {
     "elapsed": 674,
     "status": "ok",
     "timestamp": 1618621913039,
     "user": {
      "displayName": "Domonkos Bálint",
      "photoUrl": "",
      "userId": "03776607101101504614"
     },
     "user_tz": -120
    },
    "id": "9xu4cyaaVcLK"
   },
   "outputs": [],
   "source": [
    "%load_ext autoreload\n",
    "%autoreload 2"
   ]
  },
  {
   "cell_type": "code",
   "execution_count": null,
   "metadata": {
    "executionInfo": {
     "elapsed": 907,
     "status": "ok",
     "timestamp": 1618622096842,
     "user": {
      "displayName": "Domonkos Bálint",
      "photoUrl": "",
      "userId": "03776607101101504614"
     },
     "user_tz": -120
    },
    "id": "3KcwLfCBOLxw"
   },
   "outputs": [],
   "source": [
    "from src.data import DatasetLoader, train_test_val_split\n",
    "from src.visualize import plot_loss_acc\n",
    "from src.model import Unet2D\n",
    "from src.train import train\n",
    "from src.metrics import acc_metric, dice_metric\n",
    "from src.utils import *\n",
    "\n",
    "import albumentations as A\n",
    "from pathlib import Path\n",
    "\n",
    "import torch\n",
    "from torch import nn\n",
    "from torch.utils.data import Dataset, DataLoader, sampler"
   ]
  },
  {
   "cell_type": "markdown",
   "metadata": {
    "id": "EbQuVlUXOLxx"
   },
   "source": [
    "## Parameters"
   ]
  },
  {
   "cell_type": "code",
   "execution_count": null,
   "metadata": {
    "executionInfo": {
     "elapsed": 517,
     "status": "ok",
     "timestamp": 1618622003056,
     "user": {
      "displayName": "Domonkos Bálint",
      "photoUrl": "",
      "userId": "03776607101101504614"
     },
     "user_tz": -120
    },
    "id": "Ipp-G5C_OLxy"
   },
   "outputs": [],
   "source": [
    "#batch size\n",
    "bs = 8 #12\n",
    "\n",
    "#epochs\n",
    "epochs_val =  1#50\n",
    "\n",
    "#learning rate\n",
    "learn_rate = 0.01\n",
    "\n",
    "# Load the data (raw and gt images)\n",
    "base_path = Path('Data') # /work/datasets/medical_project\n",
    "dataset = \"extracted_CAMUS\" #CAMUS_resized\n",
    "\n",
    "# Resolution of the image - Watch out Memory usage (Naive)\n",
    "# (1, 1.5 or 2, 3, 4) \n",
    "scale = 1 \n",
    "image_resolution =  int(384 * scale)  "
   ]
  },
  {
   "cell_type": "markdown",
   "metadata": {
    "id": "lTckNYRZOLxy"
   },
   "source": [
    "## Prepare data"
   ]
  },
  {
   "cell_type": "code",
   "execution_count": null,
   "metadata": {
    "executionInfo": {
     "elapsed": 10450,
     "status": "ok",
     "timestamp": 1618622111476,
     "user": {
      "displayName": "Domonkos Bálint",
      "photoUrl": "",
      "userId": "03776607101101504614"
     },
     "user_tz": -120
    },
    "id": "2vmA0BEf2HEy"
   },
   "outputs": [],
   "source": [
    "train_files, test_files, val_files = train_test_val_split(base_path, dataset)"
   ]
  },
  {
   "cell_type": "code",
   "execution_count": null,
   "metadata": {
    "executionInfo": {
     "elapsed": 538,
     "status": "ok",
     "timestamp": 1618622119248,
     "user": {
      "displayName": "Domonkos Bálint",
      "photoUrl": "",
      "userId": "03776607101101504614"
     },
     "user_tz": -120
    },
    "id": "CTSmNJnG8a-8"
   },
   "outputs": [],
   "source": [
    "# The order is relevant here, so be careful when you put something\n",
    "prep_steps = ['GaussBlur'\n",
    "            #'MedianFilter',\n",
    "            #'bright',\n",
    "            #'EDGE_ENHANCE',\n",
    "            #'MedianFilter'\n",
    "            #'Sharp'\n",
    "            #'MaxFilter'\n",
    "            ]\n",
    "\n",
    "pre_processing_verbose(prep_steps)"
   ]
  },
  {
   "cell_type": "code",
   "execution_count": null,
   "metadata": {
    "executionInfo": {
     "elapsed": 520,
     "status": "ok",
     "timestamp": 1618622120967,
     "user": {
      "displayName": "Domonkos Bálint",
      "photoUrl": "",
      "userId": "03776607101101504614"
     },
     "user_tz": -120
    },
    "id": "5i3cfX3RBjW3"
   },
   "outputs": [],
   "source": [
    "train_transform = A.Compose([\n",
    "    A.HorizontalFlip(p=0.5),\n",
    "    A.RandomBrightnessContrast(p=0.2),\n",
    "])"
   ]
  },
  {
   "cell_type": "code",
   "execution_count": null,
   "metadata": {
    "colab": {
     "base_uri": "https://localhost:8080/"
    },
    "executionInfo": {
     "elapsed": 8197,
     "status": "ok",
     "timestamp": 1618622216863,
     "user": {
      "displayName": "Domonkos Bálint",
      "photoUrl": "",
      "userId": "03776607101101504614"
     },
     "user_tz": -120
    },
    "id": "u6uNX1mfOLxy",
    "outputId": "f14972b5-b9fb-44d8-9f02-76c4b0ccc34b"
   },
   "outputs": [],
   "source": [
    "train_dataset = DatasetLoader(train_files,\n",
    "                              Path.joinpath(base_path, dataset, 'train_gt'),\n",
    "                              prep_steps = prep_steps,\n",
    "                              transform = train_transform,\n",
    "                              image_resolution = image_resolution)\n",
    "\n",
    "test_dataset = DatasetLoader(test_files,\n",
    "                             Path.joinpath(base_path, dataset, 'train_gt'),\n",
    "                              prep_steps = prep_steps,\n",
    "                              image_resolution = image_resolution)\n",
    "\n",
    "valid_dataset = DatasetLoader(val_files,\n",
    "                              Path.joinpath(base_path, dataset, 'train_gt'),\n",
    "                              prep_steps = prep_steps,\n",
    "                              image_resolution = image_resolution)\n",
    "\n",
    "train_data = DataLoader(train_dataset, batch_size=bs, shuffle=True)\n",
    "test_data = DataLoader(test_dataset, batch_size=bs, shuffle=True)\n",
    "valid_data = DataLoader(valid_dataset, batch_size=bs, shuffle=True)\n",
    "print(f\"\\nItems loaded: {len(train_dataset)+len(test_dataset)+len(valid_dataset)} [training: {len(train_dataset)}, test: {len(test_dataset)}, valid: {len(valid_dataset)}]\")\n",
    "\n",
    "# Visualize shape of raw and ground true images\n",
    "xb, yb = next(iter(train_data))\n",
    "print(f\"RAW IMAGES: {xb.shape}\\n GT IMAGES: {yb.shape}\\n\")"
   ]
  },
  {
   "cell_type": "markdown",
   "metadata": {
    "id": "Cpa1uwI5OLxz"
   },
   "source": [
    "## Train"
   ]
  },
  {
   "cell_type": "code",
   "execution_count": null,
   "metadata": {
    "colab": {
     "base_uri": "https://localhost:8080/"
    },
    "executionInfo": {
     "elapsed": 112387,
     "status": "ok",
     "timestamp": 1618623934346,
     "user": {
      "displayName": "Domonkos Bálint",
      "photoUrl": "",
      "userId": "03776607101101504614"
     },
     "user_tz": -120
    },
    "id": "wULdB2xgOLxz",
    "outputId": "751a5498-b395-46a5-b224-d600f5700826"
   },
   "outputs": [],
   "source": [
    "# MODEL: Unet2D (one input channel, 4 output channels)\n",
    "# Outputs: Probabilities for each class for each pixel in different layer)\n",
    "unet = Unet2D(1, out_channels=4)\n",
    "#if pretrained:\n",
    "#    unet.load_state_dict(torch.load(model_path))\n",
    "\n",
    "loss_fn = nn.CrossEntropyLoss()\n",
    "opt = torch.optim.Adam(unet.parameters(), lr=learn_rate)\n",
    "\n",
    "# Training process\n",
    "train_loss, test_loss, train_acc, test_acc = train(unet, train_data, test_data, loss_fn, opt, acc_metric, epochs=epochs_val)"
   ]
  },
  {
   "cell_type": "code",
   "execution_count": null,
   "metadata": {
    "colab": {
     "base_uri": "https://localhost:8080/",
     "height": 949
    },
    "executionInfo": {
     "elapsed": 1321,
     "status": "ok",
     "timestamp": 1618623942399,
     "user": {
      "displayName": "Domonkos Bálint",
      "photoUrl": "",
      "userId": "03776607101101504614"
     },
     "user_tz": -120
    },
    "id": "OHU_KuH5OLx0",
    "outputId": "f8918dc1-8379-4edc-eb3e-7454c0eb2ab4"
   },
   "outputs": [],
   "source": [
    "plot_loss_acc(train_loss, test_loss, train_acc, test_acc)"
   ]
  },
  {
   "cell_type": "code",
   "execution_count": null,
   "metadata": {
    "id": "S0ZtLlarOLx0"
   },
   "outputs": [],
   "source": [
    "# Save the model\n",
    "if model_path is not None:\n",
    "    if not os.path.exists(model_path):\n",
    "        os.makedirs(model_path)\n",
    "\n",
    "    # Save performance\n",
    "    now = datetime.now().strftime('%d/%m/%Y %H:%M:%S')\n",
    "    with open(model_path + \"/performance.txt\", \"a\") as text_file:\n",
    "        print(f\"data:{now}\\ndataset:{dataset}\\n\"\n",
    "              f\"epoch:{epochs_val}\\nimage_resolution:{image_resolution}\\n\" \n",
    "              f\"pre_proc:{pre_processing_steps}\\nacc:{round(accuracy, 4)}\\n\"\n",
    "              f\"avg_dice:{round(average_dice, 4)}\\nclass_dice_scores:{str(class_dice)}\\n\", \n",
    "              file = text_file)\n",
    "\n",
    "    # Save model\n",
    "    torch.save(unet.state_dict(), model_path + file_name)\n",
    "    print(f\"Model state has been saved in /{model_path}\")\n"
   ]
  },
  {
   "cell_type": "markdown",
   "metadata": {
    "id": "j0-5OTiPOLx0"
   },
   "source": [
    "## Test"
   ]
  },
  {
   "cell_type": "code",
   "execution_count": null,
   "metadata": {
    "colab": {
     "base_uri": "https://localhost:8080/"
    },
    "executionInfo": {
     "elapsed": 7024,
     "status": "ok",
     "timestamp": 1618623975811,
     "user": {
      "displayName": "Domonkos Bálint",
      "photoUrl": "",
      "userId": "03776607101101504614"
     },
     "user_tz": -120
    },
    "id": "x_KkUAoyOLx0",
    "outputId": "5856fdab-a800-4b26-8439-6568218fc659"
   },
   "outputs": [],
   "source": [
    "# Predict on the validation data\n",
    "xb, yb = next(iter(valid_data))\n",
    "with torch.no_grad():\n",
    "    predb = unet(to_cuda(xb))\n",
    "\n",
    "# Evaluation - Accuracy\n",
    "accuracy = acc_metric(predb, yb).item()\n",
    "baseline_accuracy = 0.9705810547 # TRAINING TIME: 102m 6s\n",
    "print(f\"\\nFinal Accuracy: {round(accuracy, 4)} (delta to baseline {round(accuracy - baseline_accuracy, 4)})\")\n",
    "\n",
    "# Evaluation - Dice score\n",
    "average_dice, class_dice = dice_metric(predb, yb)\n",
    "baseline_dice =  0.607425 # [0.9652, 0.5956, 0.3764, 0.4925]\n",
    "print(f\"Final average DICE score: {round(average_dice, 4)} {class_dice} (delta to baseline {round(average_dice - baseline_dice, 4)})\")"
   ]
  }
 ],
 "metadata": {
  "accelerator": "GPU",
  "colab": {
   "collapsed_sections": [],
   "name": "main.ipynb",
   "provenance": [],
   "toc_visible": true
  },
  "kernelspec": {
   "display_name": "Python 3",
   "language": "python",
   "name": "python3"
  },
  "language_info": {
   "codemirror_mode": {
    "name": "ipython",
    "version": 3
   },
   "file_extension": ".py",
   "mimetype": "text/x-python",
   "name": "python",
   "nbconvert_exporter": "python",
   "pygments_lexer": "ipython3",
   "version": "3.8.3"
  }
 },
 "nbformat": 4,
 "nbformat_minor": 4
}
