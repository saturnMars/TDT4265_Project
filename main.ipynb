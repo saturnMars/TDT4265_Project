{
 "cells": [
  {
   "cell_type": "code",
   "execution_count": null,
   "metadata": {
    "executionInfo": {
     "elapsed": 1028,
     "status": "ok",
     "timestamp": 1618649708516,
     "user": {
      "displayName": "Domonkos Bálint",
      "photoUrl": "",
      "userId": "03776607101101504614"
     },
     "user_tz": -120
    },
    "id": "nzopYfHLOmLF"
   },
   "outputs": [],
   "source": [
    "# for domonkos to run on COLAB\n",
    "\"\"\"\n",
    "import os\n",
    "os.chdir('/content/drive/MyDrive/python/Computer_Vision/TDT4265_Project/')\n",
    "\n",
    "from google.colab import drive\n",
    "drive.mount('/content/drive')\n",
    "\"\"\""
   ]
  },
  {
   "cell_type": "code",
   "execution_count": null,
   "metadata": {
    "executionInfo": {
     "elapsed": 542,
     "status": "ok",
     "timestamp": 1618649737509,
     "user": {
      "displayName": "Domonkos Bálint",
      "photoUrl": "",
      "userId": "03776607101101504614"
     },
     "user_tz": -120
    },
    "id": "9xu4cyaaVcLK"
   },
   "outputs": [],
   "source": [
    "%load_ext autoreload\n",
    "%autoreload 2"
   ]
  },
  {
   "cell_type": "code",
   "execution_count": null,
   "metadata": {
    "executionInfo": {
     "elapsed": 530,
     "status": "ok",
     "timestamp": 1618649739114,
     "user": {
      "displayName": "Domonkos Bálint",
      "photoUrl": "",
      "userId": "03776607101101504614"
     },
     "user_tz": -120
    },
    "id": "3KcwLfCBOLxw"
   },
   "outputs": [],
   "source": [
    "from src.data import load_train_test_val\n",
    "from src.visualize import plot_loss_acc\n",
    "from src.model import Unet2D\n",
    "from src.train import train\n",
    "from src.utils import save_result\n",
    "from src.test import test\n",
    "from src.metrics import acc_metric\n",
    "\n",
    "from params import *\n",
    "\n",
    "\n",
    "import torch\n",
    "from torch import nn"
   ]
  },
  {
   "cell_type": "markdown",
   "metadata": {
    "id": "lTckNYRZOLxy"
   },
   "source": [
    "## Prepare data"
   ]
  },
  {
   "cell_type": "code",
   "execution_count": null,
   "metadata": {
    "colab": {
     "base_uri": "https://localhost:8080/"
    },
    "executionInfo": {
     "elapsed": 7800,
     "status": "ok",
     "timestamp": 1618650012655,
     "user": {
      "displayName": "Domonkos Bálint",
      "photoUrl": "",
      "userId": "03776607101101504614"
     },
     "user_tz": -120
    },
    "id": "u6uNX1mfOLxy",
    "outputId": "6faff2f0-ddc7-4714-b84f-3b3441de2112"
   },
   "outputs": [],
   "source": [
    "train_data, test_data, valid_data = load_train_test_val(DATA_PARAMS, PREP_STEPS, TRAIN_TRANSFORMS)"
   ]
  },
  {
   "cell_type": "markdown",
   "metadata": {
    "id": "Cpa1uwI5OLxz"
   },
   "source": [
    "## Train"
   ]
  },
  {
   "cell_type": "code",
   "execution_count": null,
   "metadata": {},
   "outputs": [],
   "source": [
    "# MODEL: Unet2D (one input channel, 4 output channels)\n",
    "# Outputs: Probabilities for each class for each pixel in different layer)\n",
    "unet = Unet2D(1, out_channels=4)\n",
    "\n",
    "loss_fn = nn.CrossEntropyLoss()\n",
    "opt = torch.optim.Adam(unet.parameters(), lr=LEARN_RATE)"
   ]
  },
  {
   "cell_type": "code",
   "execution_count": null,
   "metadata": {},
   "outputs": [],
   "source": [
    "if LOAD:\n",
    "    unet.load_state_dict(torch.load(MODEL_PATH+FILE_NAME))"
   ]
  },
  {
   "cell_type": "code",
   "execution_count": null,
   "metadata": {
    "colab": {
     "base_uri": "https://localhost:8080/"
    },
    "executionInfo": {
     "elapsed": 1718970,
     "status": "ok",
     "timestamp": 1618651735084,
     "user": {
      "displayName": "Domonkos Bálint",
      "photoUrl": "",
      "userId": "03776607101101504614"
     },
     "user_tz": -120
    },
    "id": "wULdB2xgOLxz",
    "outputId": "7df4b505-a465-4ab8-ba38-5d83f31aa5f0"
   },
   "outputs": [],
   "source": [
    "from datetime import datetime\n",
    "\n",
    "start = datetime.now()\n",
    "# Training process\n",
    "train_loss, test_loss, train_acc, test_acc = train(unet, train_data, test_data, loss_fn, opt, acc_metric, epochs=EPOCHS)\n",
    "\n",
    "end = datetime.now()\n",
    "\n",
    "print(\"Elapsed time is {}\".format(str(end-start)))"
   ]
  },
  {
   "cell_type": "code",
   "execution_count": null,
   "metadata": {
    "colab": {
     "base_uri": "https://localhost:8080/",
     "height": 949
    },
    "executionInfo": {
     "elapsed": 1369,
     "status": "ok",
     "timestamp": 1618651736465,
     "user": {
      "displayName": "Domonkos Bálint",
      "photoUrl": "",
      "userId": "03776607101101504614"
     },
     "user_tz": -120
    },
    "id": "OHU_KuH5OLx0",
    "outputId": "6572b9ed-211d-4e48-abce-a29a77cd9674"
   },
   "outputs": [],
   "source": [
    "plot_loss_acc(train_loss, test_loss, train_acc, test_acc)"
   ]
  },
  {
   "cell_type": "markdown",
   "metadata": {
    "id": "j0-5OTiPOLx0"
   },
   "source": [
    "## Test"
   ]
  },
  {
   "cell_type": "code",
   "execution_count": null,
   "metadata": {},
   "outputs": [],
   "source": [
    "accuracy, average_dice, class_dice = test(unet, valid_data, True)"
   ]
  },
  {
   "cell_type": "code",
   "execution_count": null,
   "metadata": {
    "id": "x_KkUAoyOLx0"
   },
   "outputs": [],
   "source": [
    "# save the result\n",
    "msg = 'Test the saving function'\n",
    "\n",
    "file_name = 'test1'\n",
    "\n",
    "# Save the model\n",
    "save_result(unet, file_name, accuracy, average_dice, class_dice, msg = msg )"
   ]
  }
 ],
 "metadata": {
  "accelerator": "GPU",
  "colab": {
   "collapsed_sections": [],
   "name": "main.ipynb",
   "provenance": [],
   "toc_visible": true
  },
  "kernelspec": {
   "display_name": "Python [conda env:deep_learning]",
   "language": "python",
   "name": "conda-env-deep_learning-py"
  },
  "language_info": {
   "codemirror_mode": {
    "name": "ipython",
    "version": 3
   },
   "file_extension": ".py",
   "mimetype": "text/x-python",
   "name": "python",
   "nbconvert_exporter": "python",
   "pygments_lexer": "ipython3",
   "version": "3.8.8"
  }
 },
 "nbformat": 4,
 "nbformat_minor": 4
}
