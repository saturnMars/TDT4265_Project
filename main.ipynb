{
 "cells": [
  {
   "cell_type": "code",
   "execution_count": null,
   "metadata": {
    "colab": {
     "base_uri": "https://localhost:8080/"
    },
    "executionInfo": {
     "elapsed": 19645,
     "status": "ok",
     "timestamp": 1618862522233,
     "user": {
      "displayName": "Marco Bronzini",
      "photoUrl": "https://lh3.googleusercontent.com/a-/AOh14GgP_C6dW3BlgojpPSXptMFbaA1Idmql190WUFTDgA=s64",
      "userId": "13323167468298286112"
     },
     "user_tz": -120
    },
    "id": "nzopYfHLOmLF",
    "outputId": "cc266c78-0526-445f-c6f2-8cb547b24eb3"
   },
   "outputs": [],
   "source": [
    "# for domonkos to run on COLAB\n",
    "\n",
    "import os\n",
    "from google.colab import drive\n",
    "\n",
    "drive.mount('/content/drive', force_remount=True)\n",
    "os.chdir('/content/drive/MyDrive/python/Computer_Vision/TDT4265_Project/')"
   ]
  },
  {
   "cell_type": "code",
   "execution_count": null,
   "metadata": {
    "executionInfo": {
     "elapsed": 19961,
     "status": "ok",
     "timestamp": 1618862522564,
     "user": {
      "displayName": "Marco Bronzini",
      "photoUrl": "https://lh3.googleusercontent.com/a-/AOh14GgP_C6dW3BlgojpPSXptMFbaA1Idmql190WUFTDgA=s64",
      "userId": "13323167468298286112"
     },
     "user_tz": -120
    },
    "id": "9xu4cyaaVcLK"
   },
   "outputs": [],
   "source": [
    "%load_ext autoreload\n",
    "%autoreload 2"
   ]
  },
  {
   "cell_type": "code",
   "execution_count": null,
   "metadata": {
    "executionInfo": {
     "elapsed": 28252,
     "status": "ok",
     "timestamp": 1618862530864,
     "user": {
      "displayName": "Marco Bronzini",
      "photoUrl": "https://lh3.googleusercontent.com/a-/AOh14GgP_C6dW3BlgojpPSXptMFbaA1Idmql190WUFTDgA=s64",
      "userId": "13323167468298286112"
     },
     "user_tz": -120
    },
    "id": "3KcwLfCBOLxw"
   },
   "outputs": [],
   "source": [
    "from src.data import load_train_test_val, load_tee\n",
    "from src.visualize import plot_loss_acc\n",
    "from src.model import Unet2D\n",
    "#from src.baseline_model import Unet2D\n",
    "from src.train import train\n",
    "from src.utils import save_result, to_cuda\n",
    "from src.test import test\n",
    "from src.metrics import acc_metric\n",
    "\n",
    "from datetime import datetime\n",
    "\n",
    "from params import *\n",
    "\n",
    "import torch\n",
    "from torch import nn"
   ]
  },
  {
   "cell_type": "markdown",
   "metadata": {
    "id": "lTckNYRZOLxy"
   },
   "source": [
    "## Prepare data"
   ]
  },
  {
   "cell_type": "code",
   "execution_count": null,
   "metadata": {
    "colab": {
     "base_uri": "https://localhost:8080/"
    },
    "executionInfo": {
     "elapsed": 44189,
     "status": "ok",
     "timestamp": 1618862546808,
     "user": {
      "displayName": "Marco Bronzini",
      "photoUrl": "https://lh3.googleusercontent.com/a-/AOh14GgP_C6dW3BlgojpPSXptMFbaA1Idmql190WUFTDgA=s64",
      "userId": "13323167468298286112"
     },
     "user_tz": -120
    },
    "id": "u6uNX1mfOLxy",
    "outputId": "d524e76c-c8af-4a1f-eb73-5981115b2ef7"
   },
   "outputs": [],
   "source": [
    "train_data, test_data, valid_data = load_train_test_val(DATA_PARAMS, PREP_STEPS, TRAIN_TRANSFORMS)"
   ]
  },
  {
   "cell_type": "markdown",
   "metadata": {
    "id": "Cpa1uwI5OLxz"
   },
   "source": [
    "## Train"
   ]
  },
  {
   "cell_type": "code",
   "execution_count": null,
   "metadata": {
    "colab": {
     "base_uri": "https://localhost:8080/"
    },
    "executionInfo": {
     "elapsed": 44181,
     "status": "ok",
     "timestamp": 1618862546810,
     "user": {
      "displayName": "Marco Bronzini",
      "photoUrl": "https://lh3.googleusercontent.com/a-/AOh14GgP_C6dW3BlgojpPSXptMFbaA1Idmql190WUFTDgA=s64",
      "userId": "13323167468298286112"
     },
     "user_tz": -120
    },
    "id": "aO8NYIXZBsVj",
    "outputId": "38f36d94-16e8-44c9-9cff-9dbe48588fff",
    "scrolled": true
   },
   "outputs": [],
   "source": [
    "# MODEL: Unet2D (one input channel, 4 output channels)\n",
    "unet = Unet2D(1, out_channels=4)\n",
    "print(unet)\n",
    "\n",
    "opt = torch.optim.Adam(unet.parameters(), lr=LEARN_RATE)"
   ]
  },
  {
   "cell_type": "code",
   "execution_count": null,
   "metadata": {
    "colab": {
     "base_uri": "https://localhost:8080/"
    },
    "id": "aCk3CSKZBsVk",
    "outputId": "375ed2e1-ddfd-4818-ad04-291bb7337550"
   },
   "outputs": [],
   "source": [
    "if LOAD: # Load pretrained model\n",
    "    unet.load_state_dict(torch.load(MODEL_PATH+FILE_NAME))\n",
    "    to_cuda(unet)\n",
    "    print(f\"The pre-trained model'{FILE_NAME}' has been loaded\")\n",
    "else:  # Start the training process\n",
    "    start = datetime.now()\n",
    "    train_loss, valid_loss, train_acc, valid_acc = train(unet, train_data, valid_data, LOSS, opt, acc_metric, epochs=EPOCHS)\n",
    "\n",
    "    end = datetime.now()\n",
    "    print(f\"Elapsed time is {str(end-start)}\")"
   ]
  },
  {
   "cell_type": "code",
   "execution_count": null,
   "metadata": {
    "id": "hnk3-CuQsYHs",
    "pycharm": {
     "name": "#%%\n"
    }
   },
   "outputs": [],
   "source": [
    "if not LOAD:\n",
    "    plot_loss_acc(train_loss, valid_loss, train_acc, valid_acc)"
   ]
  },
  {
   "cell_type": "markdown",
   "metadata": {
    "id": "j0-5OTiPOLx0"
   },
   "source": [
    "## Test"
   ]
  },
  {
   "cell_type": "code",
   "execution_count": null,
   "metadata": {
    "id": "rtSGt_bFBsVm"
   },
   "outputs": [],
   "source": [
    "print(\"TEST on the CAMUS dataset\")\n",
    "accuracy, average_dice, class_dice = test(unet, test_data, True)"
   ]
  },
  {
   "cell_type": "code",
   "execution_count": null,
   "metadata": {
    "id": "7QTRMOWHNyGB"
   },
   "outputs": [],
   "source": [
    "print(f\"Test on TEE images\")\n",
    "tee_data = load_tee(DATA_PARAMS['base_path'], DATA_PARAMS['batch_size'])\n",
    "accuracy_tee, average_dice_tee, class_dice_tee = test(unet, tee_data, True)"
   ]
  },
  {
   "cell_type": "markdown",
   "metadata": {
    "id": "y5OCjb85s-ww"
   },
   "source": [
    "# Save model"
   ]
  },
  {
   "cell_type": "code",
   "execution_count": null,
   "metadata": {
    "id": "x_KkUAoyOLx0"
   },
   "outputs": [],
   "source": [
    "file_name = 'Gauss_bringth_scale15_model'\n",
    "\n",
    "# Save the model\n",
    "save_result(unet, MODEL_PATH, file_name, accuracy_tee, average_dice_tee, class_dice_tee)"
   ]
  }
 ],
 "metadata": {
  "accelerator": "GPU",
  "colab": {
   "collapsed_sections": [],
   "name": "main.ipynb",
   "provenance": [],
   "toc_visible": true
  },
  "kernelspec": {
   "display_name": "Python [conda env:deep_learning]",
   "language": "python",
   "name": "conda-env-deep_learning-py"
  },
  "language_info": {
   "codemirror_mode": {
    "name": "ipython",
    "version": 3
   },
   "file_extension": ".py",
   "mimetype": "text/x-python",
   "name": "python",
   "nbconvert_exporter": "python",
   "pygments_lexer": "ipython3",
   "version": "3.7.10"
  }
 },
 "nbformat": 4,
 "nbformat_minor": 4
}
