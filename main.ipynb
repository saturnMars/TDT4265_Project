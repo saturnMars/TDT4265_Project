{
 "cells": [
  {
   "cell_type": "code",
   "execution_count": null,
   "metadata": {
    "colab": {
     "base_uri": "https://localhost:8080/"
    },
    "executionInfo": {
     "elapsed": 19645,
     "status": "ok",
     "timestamp": 1618862522233,
     "user": {
      "displayName": "Marco Bronzini",
      "photoUrl": "https://lh3.googleusercontent.com/a-/AOh14GgP_C6dW3BlgojpPSXptMFbaA1Idmql190WUFTDgA=s64",
      "userId": "13323167468298286112"
     },
     "user_tz": -120
    },
    "id": "nzopYfHLOmLF",
    "outputId": "cc266c78-0526-445f-c6f2-8cb547b24eb3"
   },
   "outputs": [],
   "source": [
    "# for domonkos to run on COLAB\n",
    "\n",
    "import os\n",
    "from google.colab import drive\n",
    "\n",
    "drive.mount('/content/drive', force_remount=True)\n",
    "os.chdir('/content/drive/MyDrive/python/Computer_Vision/TDT4265_Project/')"
   ]
  },
  {
   "cell_type": "code",
   "execution_count": 1,
   "metadata": {
    "executionInfo": {
     "elapsed": 19961,
     "status": "ok",
     "timestamp": 1618862522564,
     "user": {
      "displayName": "Marco Bronzini",
      "photoUrl": "https://lh3.googleusercontent.com/a-/AOh14GgP_C6dW3BlgojpPSXptMFbaA1Idmql190WUFTDgA=s64",
      "userId": "13323167468298286112"
     },
     "user_tz": -120
    },
    "id": "9xu4cyaaVcLK"
   },
   "outputs": [],
   "source": [
    "%load_ext autoreload\n",
    "%autoreload 2"
   ]
  },
  {
   "cell_type": "code",
   "execution_count": 3,
   "metadata": {
    "executionInfo": {
     "elapsed": 28252,
     "status": "ok",
     "timestamp": 1618862530864,
     "user": {
      "displayName": "Marco Bronzini",
      "photoUrl": "https://lh3.googleusercontent.com/a-/AOh14GgP_C6dW3BlgojpPSXptMFbaA1Idmql190WUFTDgA=s64",
      "userId": "13323167468298286112"
     },
     "user_tz": -120
    },
    "id": "3KcwLfCBOLxw"
   },
   "outputs": [],
   "source": [
    "from src.data import load_train_test_val, load_tee, load_tee_no_gt\n",
    "from src.visualize import plot_loss_acc\n",
    "from src.model import Unet2D\n",
    "#from src.baseline_model import Unet2D\n",
    "from src.train import train\n",
    "from src.utils import save_result, to_cuda\n",
    "from src.test import test, predict\n",
    "from src.metrics import acc_metric\n",
    "\n",
    "from datetime import datetime\n",
    "\n",
    "from params import *\n",
    "\n",
    "import torch\n",
    "from torch import nn"
   ]
  },
  {
   "cell_type": "markdown",
   "metadata": {
    "id": "lTckNYRZOLxy"
   },
   "source": [
    "## Prepare data"
   ]
  },
  {
   "cell_type": "code",
   "execution_count": 4,
   "metadata": {
    "colab": {
     "base_uri": "https://localhost:8080/"
    },
    "executionInfo": {
     "elapsed": 44189,
     "status": "ok",
     "timestamp": 1618862546808,
     "user": {
      "displayName": "Marco Bronzini",
      "photoUrl": "https://lh3.googleusercontent.com/a-/AOh14GgP_C6dW3BlgojpPSXptMFbaA1Idmql190WUFTDgA=s64",
      "userId": "13323167468298286112"
     },
     "user_tz": -120
    },
    "id": "u6uNX1mfOLxy",
    "outputId": "d524e76c-c8af-4a1f-eb73-5981115b2ef7"
   },
   "outputs": [
    {
     "name": "stdout",
     "output_type": "stream",
     "text": [
      "DATASET: extracted_CAMUS\n",
      "\n",
      "Items loaded: 1800[train: 1440, valid: 160 test: 200]\n",
      "RAW IMAGES: torch.Size([8, 1, 384, 384])\n",
      " GT IMAGES: torch.Size([8, 384, 384])\n",
      "\n"
     ]
    }
   ],
   "source": [
    "train_data, test_data, valid_data = load_train_test_val(DATA_PARAMS, PREP_STEPS, TRAIN_TRANSFORMS)"
   ]
  },
  {
   "cell_type": "markdown",
   "metadata": {
    "id": "Cpa1uwI5OLxz"
   },
   "source": [
    "## Train"
   ]
  },
  {
   "cell_type": "code",
   "execution_count": 7,
   "metadata": {
    "colab": {
     "base_uri": "https://localhost:8080/"
    },
    "executionInfo": {
     "elapsed": 44181,
     "status": "ok",
     "timestamp": 1618862546810,
     "user": {
      "displayName": "Marco Bronzini",
      "photoUrl": "https://lh3.googleusercontent.com/a-/AOh14GgP_C6dW3BlgojpPSXptMFbaA1Idmql190WUFTDgA=s64",
      "userId": "13323167468298286112"
     },
     "user_tz": -120
    },
    "id": "aO8NYIXZBsVj",
    "outputId": "38f36d94-16e8-44c9-9cff-9dbe48588fff",
    "scrolled": true
   },
   "outputs": [],
   "source": [
    "# MODEL: Unet2D (one input channel, 4 output channels)\n",
    "unet = Unet2D(1, out_channels=4)\n",
    "opt = torch.optim.Adam(unet.parameters(), lr=LEARN_RATE)"
   ]
  },
  {
   "cell_type": "code",
   "execution_count": 8,
   "metadata": {
    "colab": {
     "base_uri": "https://localhost:8080/"
    },
    "id": "aCk3CSKZBsVk",
    "outputId": "375ed2e1-ddfd-4818-ad04-291bb7337550",
    "scrolled": true
   },
   "outputs": [
    {
     "name": "stdout",
     "output_type": "stream",
     "text": [
      "Epoch 1/1\n",
      "----------\n",
      "Current step: 40  Loss: 1.4361  Acc: 0.804 Dice: (tensor(0.5081), tensor([0.8972, 0.6246, 0.5105, 0.0000])) Val Loss: 2.3688 Val Acc: 0.208 Val Dice: (tensor(0.1297), tensor([0.2941, 0.1543, 0.0702, 0.0000]))\n",
      "Current step: 80  Loss: 1.3556  Acc: 0.833 Dice: (tensor(0.5560), tensor([0.9111, 0.7372, 0.5758, 0.0000])) Val Loss: 1.3779 Val Acc: 0.842 Val Dice: (tensor(0.5280), tensor([0.9322, 0.6835, 0.4964, 0.0000]))\n",
      "Current step: 120  Loss: 1.2536  Acc: 0.874 Dice: (tensor(0.5930), tensor([0.9403, 0.7719, 0.6598, 0.0000])) Val Loss: 1.3831 Val Acc: 0.832 Val Dice: (tensor(0.4994), tensor([0.9050, 0.6772, 0.4156, 0.0000]))\n",
      "Current step: 160  Loss: 1.1218  Acc: 0.889 Dice: (tensor(0.7355), tensor([0.9499, 0.8035, 0.6314, 0.5571])) Val Loss: 1.1600 Val Acc: 0.870 Val Dice: (tensor(0.7063), tensor([0.9397, 0.8059, 0.6020, 0.4776]))\n",
      "Epoch 1/1\n",
      "----------\n",
      "Train Loss: 1.3632 Acc: 0.8259991407394409\n",
      "----------\n",
      "Elapsed time is 0:02:29.621752\n"
     ]
    }
   ],
   "source": [
    "if LOAD: # Load pretrained model\n",
    "    unet.load_state_dict(torch.load(MODEL_PATH+FILE_NAME))\n",
    "    to_cuda(unet)\n",
    "    print(f\"The pre-trained model'{FILE_NAME}' has been loaded\")\n",
    "else:  # Start the training process\n",
    "    start = datetime.now()\n",
    "    train_loss, valid_loss, train_acc, valid_acc = train(unet, train_data, valid_data, LOSS, opt, acc_metric, epochs=EPOCHS)\n",
    "\n",
    "    end = datetime.now()\n",
    "    print(f\"Elapsed time is {str(end-start)}\")"
   ]
  },
  {
   "cell_type": "code",
   "execution_count": null,
   "metadata": {
    "id": "hnk3-CuQsYHs",
    "pycharm": {
     "name": "#%%\n"
    }
   },
   "outputs": [],
   "source": [
    "if not LOAD:\n",
    "    plot_loss_acc(train_loss, valid_loss, train_acc, valid_acc)"
   ]
  },
  {
   "cell_type": "markdown",
   "metadata": {
    "id": "j0-5OTiPOLx0"
   },
   "source": [
    "## Test"
   ]
  },
  {
   "cell_type": "code",
   "execution_count": 9,
   "metadata": {
    "id": "rtSGt_bFBsVm",
    "scrolled": true
   },
   "outputs": [
    {
     "name": "stdout",
     "output_type": "stream",
     "text": [
      "TEST on the CAMUS dataset\n",
      "\n",
      "Final Accuracy: 0.871 (delta to baseline (-0.09958536149321284, 4))\n",
      "Final average DICE score: 0.6951000094413757 [0.9404240250587463, 0.7484806180000305, 0.6098035573959351, 0.48175808787345886] (delta to baseline 0.0877)\n"
     ]
    }
   ],
   "source": [
    "print(\"TEST on the CAMUS dataset\")\n",
    "accuracy, average_dice, class_dice = test(unet, test_data, False)"
   ]
  },
  {
   "cell_type": "code",
   "execution_count": 10,
   "metadata": {
    "id": "7QTRMOWHNyGB",
    "scrolled": true
   },
   "outputs": [
    {
     "name": "stdout",
     "output_type": "stream",
     "text": [
      "Test on TEE images\n",
      "TEE IMAGES: 19\n",
      "RAW TEE IMAGES: torch.Size([8, 1, 384, 384])\n",
      " GT IMAGES: torch.Size([8, 384, 384])\n",
      "\n",
      "\n",
      "Final Accuracy: 0.7704 (delta to baseline (-0.20021837951002808, 4))\n",
      "Final average DICE score: 0.32429999113082886 [0.8923982977867126, 0.27925363183021545, 0.12541373074054718, 0.0] (delta to baseline -0.2832)\n"
     ]
    }
   ],
   "source": [
    "print(f\"Test on TEE images\")\n",
    "tee_data = load_tee(DATA_PARAMS['base_path'], DATA_PARAMS['batch_size'], PREP_STEPS)\n",
    "accuracy_tee, average_dice_tee, class_dice_tee = test(unet, tee_data, False)"
   ]
  },
  {
   "cell_type": "code",
   "execution_count": 20,
   "metadata": {},
   "outputs": [
    {
     "name": "stdout",
     "output_type": "stream",
     "text": [
      "TEE IMAGES wo. gt:  120\n"
     ]
    }
   ],
   "source": [
    "tee_data_no_gt = load_tee_no_gt(DATA_PARAMS['base_path'], PREP_STEPS)"
   ]
  },
  {
   "cell_type": "code",
   "execution_count": 55,
   "metadata": {},
   "outputs": [
    {
     "data": {
      "text/plain": [
       "'final_test_J49BJRA4.h5_ES.tif'"
      ]
     },
     "execution_count": 55,
     "metadata": {},
     "output_type": "execute_result"
    }
   ],
   "source": [
    "tee_data_no_gt.files[0].name"
   ]
  },
  {
   "cell_type": "code",
   "execution_count": 53,
   "metadata": {},
   "outputs": [
    {
     "ename": "FileNotFoundError",
     "evalue": "[Errno 2] No such file or directory: './final_test_predictions/pred_Data/extracted_TEE/final_test/final_test_J49BJRA4.h5_ES.tif'",
     "output_type": "error",
     "traceback": [
      "\u001b[0;31m---------------------------------------------------------------------------\u001b[0m",
      "\u001b[0;31mFileNotFoundError\u001b[0m                         Traceback (most recent call last)",
      "\u001b[0;32m<ipython-input-53-66346681d1ac>\u001b[0m in \u001b[0;36m<module>\u001b[0;34m\u001b[0m\n\u001b[0;32m----> 1\u001b[0;31m \u001b[0mpredict\u001b[0m\u001b[0;34m(\u001b[0m\u001b[0munet\u001b[0m\u001b[0;34m,\u001b[0m \u001b[0mtee_data_no_gt\u001b[0m\u001b[0;34m)\u001b[0m\u001b[0;34m\u001b[0m\u001b[0;34m\u001b[0m\u001b[0m\n\u001b[0m",
      "\u001b[0;32m/home/work/computer_vision/TDT4265_Project/src/test.py\u001b[0m in \u001b[0;36mpredict\u001b[0;34m(model, data)\u001b[0m\n\u001b[1;32m     22\u001b[0m             \u001b[0mnumpy_pred\u001b[0m \u001b[0;34m=\u001b[0m \u001b[0mnp\u001b[0m\u001b[0;34m.\u001b[0m\u001b[0msqueeze\u001b[0m\u001b[0;34m(\u001b[0m\u001b[0;34m(\u001b[0m\u001b[0mnumpy_pred\u001b[0m\u001b[0;34m)\u001b[0m\u001b[0;34m.\u001b[0m\u001b[0mastype\u001b[0m\u001b[0;34m(\u001b[0m\u001b[0mnp\u001b[0m\u001b[0;34m.\u001b[0m\u001b[0muint8\u001b[0m\u001b[0;34m)\u001b[0m\u001b[0;34m.\u001b[0m\u001b[0mtranspose\u001b[0m\u001b[0;34m(\u001b[0m\u001b[0;34m[\u001b[0m\u001b[0;36m1\u001b[0m\u001b[0;34m,\u001b[0m\u001b[0;36m2\u001b[0m\u001b[0;34m,\u001b[0m\u001b[0;36m0\u001b[0m\u001b[0;34m]\u001b[0m\u001b[0;34m)\u001b[0m\u001b[0;34m,\u001b[0m \u001b[0maxis\u001b[0m\u001b[0;34m=\u001b[0m\u001b[0;36m2\u001b[0m\u001b[0;34m)\u001b[0m\u001b[0;34m\u001b[0m\u001b[0;34m\u001b[0m\u001b[0m\n\u001b[1;32m     23\u001b[0m         \u001b[0mimage\u001b[0m \u001b[0;34m=\u001b[0m \u001b[0mImage\u001b[0m\u001b[0;34m.\u001b[0m\u001b[0mfromarray\u001b[0m\u001b[0;34m(\u001b[0m\u001b[0mnumpy_pred\u001b[0m\u001b[0;34m)\u001b[0m\u001b[0;34m\u001b[0m\u001b[0;34m\u001b[0m\u001b[0m\n\u001b[0;32m---> 24\u001b[0;31m         \u001b[0mimage\u001b[0m\u001b[0;34m.\u001b[0m\u001b[0msave\u001b[0m\u001b[0;34m(\u001b[0m\u001b[0mpred_library\u001b[0m\u001b[0;34m+\u001b[0m\u001b[0;34m'pred_{}'\u001b[0m\u001b[0;34m.\u001b[0m\u001b[0mformat\u001b[0m\u001b[0;34m(\u001b[0m\u001b[0mfile_name\u001b[0m\u001b[0;34m)\u001b[0m\u001b[0;34m)\u001b[0m\u001b[0;34m\u001b[0m\u001b[0;34m\u001b[0m\u001b[0m\n\u001b[0m\u001b[1;32m     25\u001b[0m     \u001b[0mprint\u001b[0m\u001b[0;34m(\u001b[0m\u001b[0;34m'saved preidctions to {}'\u001b[0m\u001b[0;34m.\u001b[0m\u001b[0mformat\u001b[0m\u001b[0;34m(\u001b[0m\u001b[0mpred_library\u001b[0m\u001b[0;34m)\u001b[0m\u001b[0;34m)\u001b[0m\u001b[0;34m\u001b[0m\u001b[0;34m\u001b[0m\u001b[0m\n\u001b[1;32m     26\u001b[0m \u001b[0;34m\u001b[0m\u001b[0m\n",
      "\u001b[0;32m/home/miniconda3/envs/deep_learning/lib/python3.7/site-packages/PIL/Image.py\u001b[0m in \u001b[0;36msave\u001b[0;34m(self, fp, format, **params)\u001b[0m\n\u001b[1;32m   2159\u001b[0m                 \u001b[0mfp\u001b[0m \u001b[0;34m=\u001b[0m \u001b[0mbuiltins\u001b[0m\u001b[0;34m.\u001b[0m\u001b[0mopen\u001b[0m\u001b[0;34m(\u001b[0m\u001b[0mfilename\u001b[0m\u001b[0;34m,\u001b[0m \u001b[0;34m\"r+b\"\u001b[0m\u001b[0;34m)\u001b[0m\u001b[0;34m\u001b[0m\u001b[0;34m\u001b[0m\u001b[0m\n\u001b[1;32m   2160\u001b[0m             \u001b[0;32melse\u001b[0m\u001b[0;34m:\u001b[0m\u001b[0;34m\u001b[0m\u001b[0;34m\u001b[0m\u001b[0m\n\u001b[0;32m-> 2161\u001b[0;31m                 \u001b[0mfp\u001b[0m \u001b[0;34m=\u001b[0m \u001b[0mbuiltins\u001b[0m\u001b[0;34m.\u001b[0m\u001b[0mopen\u001b[0m\u001b[0;34m(\u001b[0m\u001b[0mfilename\u001b[0m\u001b[0;34m,\u001b[0m \u001b[0;34m\"w+b\"\u001b[0m\u001b[0;34m)\u001b[0m\u001b[0;34m\u001b[0m\u001b[0;34m\u001b[0m\u001b[0m\n\u001b[0m\u001b[1;32m   2162\u001b[0m \u001b[0;34m\u001b[0m\u001b[0m\n\u001b[1;32m   2163\u001b[0m         \u001b[0;32mtry\u001b[0m\u001b[0;34m:\u001b[0m\u001b[0;34m\u001b[0m\u001b[0;34m\u001b[0m\u001b[0m\n",
      "\u001b[0;31mFileNotFoundError\u001b[0m: [Errno 2] No such file or directory: './final_test_predictions/pred_Data/extracted_TEE/final_test/final_test_J49BJRA4.h5_ES.tif'"
     ]
    }
   ],
   "source": [
    "predict(unet, tee_data_no_gt)"
   ]
  },
  {
   "cell_type": "markdown",
   "metadata": {
    "id": "y5OCjb85s-ww"
   },
   "source": [
    "# Save model"
   ]
  },
  {
   "cell_type": "code",
   "execution_count": null,
   "metadata": {
    "id": "x_KkUAoyOLx0"
   },
   "outputs": [],
   "source": [
    "file_name = 'Gauss_bringth_scale15_model'\n",
    "\n",
    "# Save the model\n",
    "save_result(unet, MODEL_PATH, file_name, accuracy_tee, average_dice_tee, class_dice_tee)"
   ]
  }
 ],
 "metadata": {
  "accelerator": "GPU",
  "colab": {
   "collapsed_sections": [],
   "name": "main.ipynb",
   "provenance": [],
   "toc_visible": true
  },
  "kernelspec": {
   "display_name": "Python [conda env:deep_learning]",
   "language": "python",
   "name": "conda-env-deep_learning-py"
  },
  "language_info": {
   "codemirror_mode": {
    "name": "ipython",
    "version": 3
   },
   "file_extension": ".py",
   "mimetype": "text/x-python",
   "name": "python",
   "nbconvert_exporter": "python",
   "pygments_lexer": "ipython3",
   "version": "3.7.10"
  }
 },
 "nbformat": 4,
 "nbformat_minor": 4
}
